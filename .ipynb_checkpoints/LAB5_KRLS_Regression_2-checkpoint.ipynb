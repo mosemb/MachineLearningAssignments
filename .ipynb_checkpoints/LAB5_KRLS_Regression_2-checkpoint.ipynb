{
 "cells": [
  {
   "cell_type": "markdown",
   "metadata": {},
   "source": [
    "# Lab 05 - Kernel Regularized Least Squares 4846019 Moses Mbabaali\n",
    "\n",
    "In this lab activity we consider the extension of Regularized Least Squares to non-linear problems using kernel functions."
   ]
  },
  {
   "cell_type": "code",
   "execution_count": 19,
   "metadata": {},
   "outputs": [],
   "source": [
    "# import libraries\n",
    "%matplotlib inline\n",
    "import numpy as np\n",
    "import matplotlib as cm\n",
    "import matplotlib.pyplot as plt\n",
    "import scipy.linalg\n",
    "import os"
   ]
  },
  {
   "cell_type": "markdown",
   "metadata": {},
   "source": [
    "### TASK 1 - Define a function to generate D-dimensional synthetic data non non-linear regression problems"
   ]
  },
  {
   "cell_type": "code",
   "execution_count": 20,
   "metadata": {},
   "outputs": [],
   "source": [
    "def nonLinearRegrFunction(n, D, low_D, high_D, W, sigma_noise):\n",
    "   \n",
    "    X = np.zeros((n,D))\n",
    "    for i in range(0, D):\n",
    "        X[:,i] = np.random.uniform(low_D[i], high_D[i], size=n)\n",
    "    \n",
    "    gauss_noise = np.random.normal(0, sigma_noise, size=(n,1))\n",
    "\n",
    "    Y = np.square(np.dot(X,W)) + np.dot(X,W) + gauss_noise\n",
    "    return X, Y"
   ]
  },
  {
   "cell_type": "markdown",
   "metadata": {},
   "source": [
    "The function <b>sqDist</b> computes all the distances between two sets of points stored in two matrices X1 and X2. Use it as follows:\n",
    "\n",
    "##### D = sqDist(X1, X2)\n",
    "where\n",
    "- X1: a matrix of size [n1xd], where each row is a d-dimensional point\n",
    "- X2: a matrix of size [n2xd], where each row is a d-dimensional point\n",
    "- D: a [n1xn2] matrix where each element (D)_ij is the distance between points (X_i, X_j)\n"
   ]
  },
  {
   "cell_type": "code",
   "execution_count": 21,
   "metadata": {},
   "outputs": [],
   "source": [
    "def sqDist(X1, X2):\n",
    "    sqx = np.sum(np.multiply(X1, X1), 1)\n",
    "    sqy = np.sum(np.multiply(X2, X2), 1)\n",
    "    return np.outer(sqx, np.ones(sqy.shape[0])) + np.outer(np.ones(sqx.shape[0]), sqy.T) - 2 * np.dot(X1, X2.T)"
   ]
  },
  {
   "cell_type": "markdown",
   "metadata": {},
   "source": [
    "The function <b>kernelMatrix</b> builds the matrix of the kernel (also called Gram matrix) between two sets of points stored in two matrices X1 and X2. Use is as follows:\n",
    "\n",
    "##### K = kernelMatrix(X1, X2, kernel_type, param)\n",
    "where\n",
    "- X1, X2: collections of points on which to compute the Gram matrix\n",
    "- kernel_type: can be 'linear', 'polynomial' or 'gaussian'\n",
    "- param: is [] for the linear kernel, the exponent of the polynomial kernel, or the standard deviation for the gaussian kernel\n",
    "- K: Gram matrix\n",
    "\n",
    "### TASK 2 - Complete the computation of the kernel matrix depending on the specific kernel choice"
   ]
  },
  {
   "cell_type": "code",
   "execution_count": 22,
   "metadata": {},
   "outputs": [],
   "source": [
    "def kernelMatrix(X1, X2, kernel_type, param):\n",
    "   \n",
    "    if kernel_type == 'linear':\n",
    "        return  np.dot(X1,X2.T)\n",
    "    elif kernel_type == 'polynomial':\n",
    "        return  (np.dot(X1,X2.T) + 1)**param\n",
    "    elif kernel_type == 'gaussian':\n",
    "        return  np.exp((-sqDist(X1,X2))/(2*(param)**2))"
   ]
  },
  {
   "cell_type": "markdown",
   "metadata": {},
   "source": [
    "The function <b>regularizedKernLSTrain</b> computes the parameters of the function estimated on the training set. Use it as follows:\n",
    "\n",
    "##### c = regularizedKernLSTrain(Xtr, Ytr, kernel, sigma, lam)\n",
    "where\n",
    "- Xtr: training input\n",
    "- Ytr: training output\n",
    "- kernel_type: type of kernel ('linear', 'polynomial', 'gaussian')\n",
    "- param: is [] for the linear kernel, the exponent of the polynomial kernel, or the standard deviation for the gaussian kernel\n",
    "- reg_par: regularization parameter\n",
    "- c: model coefficients\n",
    "\n",
    "### TASK 3 - Complete the computation of the c coefficients for the case when square loss is used"
   ]
  },
  {
   "cell_type": "code",
   "execution_count": 23,
   "metadata": {},
   "outputs": [],
   "source": [
    "def regularizedKernLSTrain(Xtr, Ytr, kernel_type, param, reg_par):\n",
    "   \n",
    "    n = Xtr.shape[0]\n",
    "    K = kernelMatrix(Xtr, Xtr, kernel_type, param)\n",
    "    c = np.dot(scipy.linalg.inv(K + np.identity(n)*reg_par*n), Ytr) #TODO\n",
    "\n",
    "    return c"
   ]
  },
  {
   "cell_type": "markdown",
   "metadata": {},
   "source": [
    "The function <b>regularizedKernLSTest</b> applies an estimated function (previously called also model) to a test set, to verify its goodness. Use it as follows:\n",
    "\n",
    "##### Ypred = regularizedKernLSTest(c, Xtr, kernel_type, param, Xte)\n",
    "where\n",
    "- c: model coefficients\n",
    "- Xtr: training input\n",
    "- kernel type: type of kernel ('linear', 'polynomial', 'gaussian')\n",
    "- param: is [] for the linear kernel, the exponent of the polynomial kernel, or the standard deviation for the gaussian kernel\n",
    "- Xte: test points\n",
    "- Ypred: predicted output on the test set"
   ]
  },
  {
   "cell_type": "code",
   "execution_count": 24,
   "metadata": {},
   "outputs": [],
   "source": [
    "def regularizedKernLSTest(c, Xtr, kernel_type, param, Xte):\n",
    "   \n",
    "    Ktest = kernelMatrix(Xte, Xtr, kernel_type, param)\n",
    "    Ypred = np.dot(Ktest, c)\n",
    "\n",
    "    return Ypred"
   ]
  },
  {
   "cell_type": "markdown",
   "metadata": {},
   "source": [
    "The function <b>calcErr</b> computes the error between real and predicted output (for regression problems). Use it as follows:\n",
    "\n",
    "##### err = calcErr(Ypred, Ytrue)\n",
    "\n",
    "where\n",
    "- Ypred: estimated (predicted) output\n",
    "- Ytrue: true (correct) output\n",
    "- err: error estimated as Mean Squared Error (MSE)"
   ]
  },
  {
   "cell_type": "code",
   "execution_count": 25,
   "metadata": {},
   "outputs": [],
   "source": [
    "def calcErr(Ypred, Ytrue):\n",
    "    return np.mean((Ypred-Ytrue)**2)"
   ]
  },
  {
   "cell_type": "markdown",
   "metadata": {},
   "source": [
    "Let's modify the function for <b>V-Fold Cross Validation</b>, you already used in the previous labs, to adapt it to the use with Kernel Regularized Least Squares "
   ]
  },
  {
   "cell_type": "code",
   "execution_count": 26,
   "metadata": {},
   "outputs": [],
   "source": [
    "def VFoldCVKernRLS(x, y, KF, kernel_type, lam_list, kerpar_list):\n",
    "   \n",
    "    if KF <= 0:\n",
    "        print(\"Please supply a positive number of repetitions\")\n",
    "        return -1\n",
    "\n",
    "    if isinstance(kerpar_list, int):\n",
    "        kerpar_list = np.array([kerpar_list])\n",
    "    else:\n",
    "        kerpar_list = np.array(kerpar_list)\n",
    "    nkerpar = kerpar_list.size\n",
    "\n",
    "    if isinstance(lam_list, int):\n",
    "        lam_list = np.array([lam_list])\n",
    "    else:\n",
    "        lam_list = np.array(lam_list)\n",
    "    nlambda = lam_list.size\n",
    "\n",
    "    n = Xtr.shape[0]\n",
    "    n_val = int(np.ceil(n/KF))\n",
    "    ntr = n - n_val\n",
    "\n",
    "    tm = np.zeros((nlambda, nkerpar))\n",
    "    ts = np.zeros((nlambda, nkerpar))\n",
    "    vm = np.zeros((nlambda, nkerpar))\n",
    "    vs = np.zeros((nlambda, nkerpar))\n",
    "\n",
    "    ym = float(y.max() + y.min()) / float(2)\n",
    "    \n",
    "     # Random permutation of training data\n",
    "    rand_idx = np.random.choice(n, size=n, replace=False)\n",
    "\n",
    "    il = 0\n",
    "    for l in lam_list:\n",
    "        iss = 0\n",
    "        for s in kerpar_list:\n",
    "            trerr = np.zeros((KF, 1))\n",
    "            vlerr = np.zeros((KF, 1))\n",
    "            first=0\n",
    "            for fold in range(KF):\n",
    "                \n",
    "                flags = np.zeros(Xtr.shape[0])\n",
    "                flags[first:first+n_val]=1;\n",
    "            \n",
    "                X = Xtr[rand_idx[flags==0]]\n",
    "                Y = Ytr[rand_idx[flags==0]]\n",
    "                X_val = Xtr[rand_idx[flags==1]]\n",
    "                Y_val = Ytr[rand_idx[flags==1]]\n",
    "\n",
    "                c = regularizedKernLSTrain(X, Y, kernel_type, s, l)\n",
    "                \n",
    "                trerr[fold] = calcErr(regularizedKernLSTest(c, X, kernel_type, s, X), Y)\n",
    "                vlerr[fold] = calcErr(regularizedKernLSTest(c, X, kernel_type, s, X_val), Y_val)\n",
    "                \n",
    "            tm[il, iss] = np.median(trerr)\n",
    "            ts[il, iss] = np.std(trerr)\n",
    "            vm[il, iss] = np.median(vlerr)\n",
    "            vs[il, iss] = np.std(vlerr)\n",
    "            iss = iss + 1\n",
    "        il = il + 1\n",
    "    row, col = np.where(vm == np.amin(vm))\n",
    "    l = lam_list[row]\n",
    "    s = kerpar_list[col]\n",
    "\n",
    "    return [l, s, vm, vs, tm, ts]"
   ]
  },
  {
   "cell_type": "markdown",
   "metadata": {},
   "source": [
    "##### Now, let's move to the analysis..."
   ]
  },
  {
   "cell_type": "markdown",
   "metadata": {},
   "source": [
    "### TASK 4 - Build a training and a test set using the function to generate synthetic data for non-linear regression problems you defined with TASK 1\n",
    "\n",
    "Generate, for instance, 2-dimensional data in the range [-1, 1] with sigma_noise = 0.8"
   ]
  },
  {
   "cell_type": "code",
   "execution_count": 27,
   "metadata": {},
   "outputs": [],
   "source": [
    "n = 100\n",
    "D = 2\n",
    "sigma_noise = 0.8\n",
    "W = 2\n",
    "low_D = np.array([-1,-1])\n",
    "high_D = np.array([1,1])\n",
    "\n",
    "Xtr, Ytr =  nonLinearRegrFunction(n, D, low_D, high_D, W, sigma_noise)\n",
    "Xte, Yte =  nonLinearRegrFunction(n, D, low_D, high_D, W, sigma_noise)"
   ]
  },
  {
   "cell_type": "markdown",
   "metadata": {},
   "source": [
    "### TASK 5 - Complete, where required, the final parts, considering first a gaussian and then a polynomial kernel"
   ]
  },
  {
   "cell_type": "code",
   "execution_count": 28,
   "metadata": {},
   "outputs": [
    {
     "name": "stdout",
     "output_type": "stream",
     "text": [
      "Test error: 6.464183006657634\n"
     ]
    },
    {
     "data": {
      "image/png": "[encoded data removed]",
      "text/plain": [
       "<Figure size 432x288 with 1 Axes>"
      ]
     },
     "metadata": {
      "needs_background": "light"
     },
     "output_type": "display_data"
    }
   ],
   "source": [
    "kerpar_list = [0.5] # for the time being let's use only one possible value for the kernel parameter\n",
    "lam_list = [10, 7, 5, 2, 1, 0.7, 0.5, 0.3, 0.2, 0.1, 0.05, 0.02, 0.01, 0.005, 0.002, 0.001, 0.0005, 0.0002, 0.0001, 0.00001, 0.000001]\n",
    "V_Fold = 5\n",
    "\n",
    "l, s, vm, vs, tm, ts = VFoldCVKernRLS(Xtr, Ytr, V_Fold, 'gaussian', lam_list, kerpar_list)\n",
    "\n",
    "fig, axs = plt.subplots(1,  1)\n",
    "plt.title('Using gaussian kernel')\n",
    "plt.semilogx(lam_list, tm, 'r')\n",
    "plt.semilogx(lam_list, vm, 'b')\n",
    "plt.legend(['Training error', 'Validation error'])\n",
    "plt.grid()\n",
    "plt.tight_layout()\n",
    "\n",
    "# Now let's train the model with the best value for the parameters \n",
    "c = regularizedKernLSTrain(Xtr, Ytr, 'gaussian', param=s[0], reg_par=l[0])\n",
    "\n",
    "# Predict the output on the test set with the estimated model\n",
    "Ypred =  regularizedKernLSTest(c, Xtr, 'gaussian', param=s[0], Xte=Xte)\n",
    "\n",
    "# Compute the error between predicted and real output\n",
    "err =  calcErr(Ypred, Ytr)\n",
    "\n",
    "print('Test error: '+str(err))\n"
   ]
  },
  {
   "cell_type": "code",
   "execution_count": 29,
   "metadata": {},
   "outputs": [
    {
     "name": "stdout",
     "output_type": "stream",
     "text": [
      "Test error: 6.6988983834711915\n"
     ]
    },
    {
     "data": {
      "image/png": "[encoded data removed]",
      "text/plain": [
       "<Figure size 432x288 with 1 Axes>"
      ]
     },
     "metadata": {
      "needs_background": "light"
     },
     "output_type": "display_data"
    }
   ],
   "source": [
    "kerpar_list = [4] # for the time being let's use only one possible value for the kernel parameter\n",
    "lam_list = [5, 2, 1, 0.7, 0.5, 0.3, 0.2, 0.1, 0.05, 0.02, 0.01, 0.005, 0.002, 0.001, 0.0005, 0.0002, 0.0001,0.00001,0.000001]\n",
    "V_Fold = 5\n",
    "\n",
    "l, s, vm, vs, tm, ts = VFoldCVKernRLS(Xtr, Ytr, V_Fold, 'polynomial', lam_list, kerpar_list)\n",
    "\n",
    "fig, axs = plt.subplots(1,  1)\n",
    "plt.title('Using polynomial kernel')\n",
    "plt.semilogx(lam_list, tm, 'r')\n",
    "plt.semilogx(lam_list, vm, 'b')\n",
    "plt.legend(['Training error', 'Validation error'])\n",
    "plt.grid()\n",
    "plt.tight_layout()\n",
    "\n",
    "# Now let's train the model with the best value for the parameters \n",
    "c = regularizedKernLSTrain(Xtr, Ytr, 'polynomial', param=s[0], reg_par=l[0])\n",
    "\n",
    "# Predict the output on the test set with the estimated model\n",
    "Ypred = regularizedKernLSTest(c, Xtr, 'polynomial', param=s[0], Xte=Xte)\n",
    "\n",
    "# Compute the error between predicted and real output\n",
    "err = calcErr(Ypred, Ytr)\n",
    "\n",
    "print('Test error: '+str(err))"
   ]
  },
  {
   "cell_type": "code",
   "execution_count": null,
   "metadata": {},
   "outputs": [],
   "source": []
  },
  {
   "cell_type": "code",
   "execution_count": null,
   "metadata": {},
   "outputs": [],
   "source": []
  }
 ],
 "metadata": {
  "kernelspec": {
   "display_name": "Python 3",
   "language": "python",
   "name": "python3"
  },
  "language_info": {
   "codemirror_mode": {
    "name": "ipython",
    "version": 3
   },
   "file_extension": ".py",
   "mimetype": "text/x-python",
   "name": "python",
   "nbconvert_exporter": "python",
   "pygments_lexer": "ipython3",
   "version": "3.7.6"
  }
 },
 "nbformat": 4,
 "nbformat_minor": 2
}
