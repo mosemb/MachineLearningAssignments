{
 "cells": [
  {
   "cell_type": "markdown",
   "metadata": {},
   "source": [
    "# Lab. 8 - K-Means and the LLoid algorithm\n",
    "\n",
    "In this lab we consider unsupervised settings, and more specifically the problem of data clustering using K-means.\n",
    "\n",
    "As usual, we start including libraries and utility functions."
   ]
  },
  {
   "cell_type": "code",
   "execution_count": 1,
   "metadata": {},
   "outputs": [],
   "source": [
    "# import libraries\n",
    "%matplotlib inline\n",
    "import numpy as np\n",
    "import matplotlib.pyplot as plt\n",
    "import os\n",
    "import numpy.linalg as la"
   ]
  },
  {
   "cell_type": "code",
   "execution_count": 2,
   "metadata": {},
   "outputs": [],
   "source": [
    "def mixGauss(means, sigmas, n):\n",
    "\n",
    "    means = np.array(means)\n",
    "    sigmas = np.array(sigmas)\n",
    "\n",
    "    d = means.shape[1]\n",
    "    num_classes = sigmas.size\n",
    "    data = np.full((n * num_classes, d), np.inf)\n",
    "    labels = np.zeros(n * num_classes)\n",
    "\n",
    "    for idx, sigma in enumerate(sigmas):\n",
    "        data[idx * n:(idx + 1) * n] = np.random.multivariate_normal(mean=means[idx], cov=np.eye(d) * sigmas[idx] ** 2,\n",
    "                                                                    size=n)\n",
    "        labels[idx * n:(idx + 1) * n] = idx \n",
    "        \n",
    "    if(num_classes == 2):\n",
    "        labels[labels==0] = -1\n",
    "\n",
    "    return data, labels"
   ]
  },
  {
   "cell_type": "code",
   "execution_count": 22,
   "metadata": {},
   "outputs": [],
   "source": [
    "n=100 # number of features for each gaussian\n",
    "d=30 # total number of features\n",
    "d_rev = 2 # number of\n",
    "\n",
    "Xtr, Ytr = mixGauss(means = [[0,0],[0,1]], sigmas = [0.7, 0.7], n=100)\n",
    "Ytr[Ytr==2]=-1\n",
    "Xte, Yte = mixGauss(means = [[0,0],[0,1]], sigmas = [0.7, 0.7], n=100)\n",
    "Yte[Yte==2]=-1"
   ]
  },
  {
   "cell_type": "code",
   "execution_count": 23,
   "metadata": {},
   "outputs": [],
   "source": [
    "def EuclidDistance(P1,P2):\n",
    "    v = np.linalg.norm(P1-P2,2)\n",
    "    return v**2"
   ]
  },
  {
   "cell_type": "code",
   "execution_count": 24,
   "metadata": {},
   "outputs": [],
   "source": [
    "def allDistances(X1, X2):\n",
    "    D = np.zeros((X1.shape[0], X2.shape[0]))\n",
    "    for idx1 in range(np.shape(X1)[0]):\n",
    "        for idx2 in range(np.shape(X2)[0]):\n",
    "            D[idx1,idx2] = EuclidDistance(X1[idx1,:],X2[idx2,:])\n",
    "    return D"
   ]
  },
  {
   "cell_type": "markdown",
   "metadata": {},
   "source": [
    "##### The Lloid algorithm\n",
    "\n",
    "We now focus on the implementation of the LLoid algorithm. The arguments of the function are:\n",
    "- X: the data matrix\n",
    "- centers0: the initialization of the cluster centers\n",
    "- maxiter: the maximum number of iterations\n",
    "The function returns the final clusters centers and the labels associated with each point.\n"
   ]
  },
  {
   "cell_type": "code",
   "execution_count": 7,
   "metadata": {},
   "outputs": [
    {
     "data": {
      "text/plain": [
       "85.7638612512611"
      ]
     },
     "execution_count": 7,
     "metadata": {},
     "output_type": "execute_result"
    }
   ],
   "source": [
    "EuclidDistance(Xtr[0,0],Xtr[5:,0])"
   ]
  },
  {
   "cell_type": "code",
   "execution_count": 54,
   "metadata": {},
   "outputs": [
    {
     "data": {
      "text/plain": [
       "0.45347162670067737"
      ]
     },
     "execution_count": 54,
     "metadata": {},
     "output_type": "execute_result"
    }
   ],
   "source": [
    "Xtr[0,1]"
   ]
  },
  {
   "cell_type": "code",
   "execution_count": 8,
   "metadata": {},
   "outputs": [],
   "source": [
    "for i in range(len(Xtr)):\n",
    "    distance = EuclidDistance(Xtr[0,0],Xtr[i:,0])\n",
    "    #print (distance)"
   ]
  },
  {
   "cell_type": "code",
   "execution_count": 56,
   "metadata": {},
   "outputs": [],
   "source": [
    "#Xtr[:,1]"
   ]
  },
  {
   "cell_type": "code",
   "execution_count": 12,
   "metadata": {},
   "outputs": [],
   "source": [
    "n= np.shape(Xtr)[0]"
   ]
  },
  {
   "cell_type": "code",
   "execution_count": 9,
   "metadata": {},
   "outputs": [],
   "source": [
    "centers = 5\n",
    "n_samples,dim = Xtr.shape"
   ]
  },
  {
   "cell_type": "code",
   "execution_count": 10,
   "metadata": {},
   "outputs": [
    {
     "data": {
      "text/plain": [
       "array([6, 7, 0, 3])"
      ]
     },
     "execution_count": 10,
     "metadata": {},
     "output_type": "execute_result"
    }
   ],
   "source": [
    "np.random.choice(10,4,replace=False)"
   ]
  },
  {
   "cell_type": "code",
   "execution_count": 69,
   "metadata": {},
   "outputs": [
    {
     "data": {
      "text/plain": [
       "[array([ 1.03775713, -0.44284918]),\n",
       " array([0.16434682, 0.23072412]),\n",
       " array([0.09699112, 0.41957597]),\n",
       " array([-1.17165024,  0.90178751]),\n",
       " array([ 0.16438546, -0.68200065])]"
      ]
     },
     "execution_count": 69,
     "metadata": {},
     "output_type": "execute_result"
    }
   ],
   "source": [
    "# initialize \n",
    "#random_center_idxs = np.random.choice(n_samples, centers, replace=False) # Gets random numbers for indexes\n",
    "#centroids = [Xtr[idx] for idx in random_sample_idxs]  # Creates a list of initial index points from dataset\n",
    "#centroids\n",
    "\n",
    "rand_center_idexes = np.random.choice(n_samples,centers,replace=False) # Gets random numbers for indexes\n",
    "centroids = [Xtr[index] for index in rand_center_idexes] # Creates a list of initial index points from dataset\n",
    "centroids"
   ]
  },
  {
   "cell_type": "code",
   "execution_count": 73,
   "metadata": {},
   "outputs": [
    {
     "data": {
      "text/plain": [
       "array([[ 1.01130572, -0.22389649],\n",
       "       [ 0.18564247,  0.06174113],\n",
       "       [ 0.14859739,  0.92723367],\n",
       "       [-0.77435235,  1.14898946],\n",
       "       [-0.12889794, -0.6539402 ]])"
      ]
     },
     "execution_count": 73,
     "metadata": {},
     "output_type": "execute_result"
    }
   ],
   "source": [
    "new_centroids(p,Xtr)"
   ]
  },
  {
   "cell_type": "code",
   "execution_count": 6,
   "metadata": {},
   "outputs": [],
   "source": [
    "def near_centroid(observation, centroid):\n",
    "    distances = [EuclidDistance(observation,point) for point in centroids]\n",
    "    nearest_idx = np.argmin(distances)\n",
    "    return nearest_idx \n",
    "#close_centroid(Xtr[0], centroids)"
   ]
  },
  {
   "cell_type": "code",
   "execution_count": 7,
   "metadata": {},
   "outputs": [
    {
     "ename": "NameError",
     "evalue": "name 'centroids' is not defined",
     "output_type": "error",
     "traceback": [
      "\u001b[0;31m---------------------------------------------------------------------------\u001b[0m",
      "\u001b[0;31mNameError\u001b[0m                                 Traceback (most recent call last)",
      "\u001b[0;32m<ipython-input-7-48d172f331d1>\u001b[0m in \u001b[0;36m<module>\u001b[0;34m\u001b[0m\n\u001b[1;32m      6\u001b[0m         \u001b[0mclusters\u001b[0m\u001b[0;34m[\u001b[0m\u001b[0mcentroid_idx\u001b[0m\u001b[0;34m]\u001b[0m\u001b[0;34m.\u001b[0m\u001b[0mappend\u001b[0m\u001b[0;34m(\u001b[0m\u001b[0midx\u001b[0m\u001b[0;34m)\u001b[0m\u001b[0;34m\u001b[0m\u001b[0;34m\u001b[0m\u001b[0m\n\u001b[1;32m      7\u001b[0m     \u001b[0;32mreturn\u001b[0m \u001b[0mclusters\u001b[0m\u001b[0;34m\u001b[0m\u001b[0;34m\u001b[0m\u001b[0m\n\u001b[0;32m----> 8\u001b[0;31m \u001b[0mp\u001b[0m\u001b[0;34m=\u001b[0m\u001b[0mcreate_clusters\u001b[0m\u001b[0;34m(\u001b[0m\u001b[0mcentroids\u001b[0m\u001b[0;34m,\u001b[0m\u001b[0mXtr\u001b[0m\u001b[0;34m)\u001b[0m\u001b[0;34m\u001b[0m\u001b[0;34m\u001b[0m\u001b[0m\n\u001b[0m",
      "\u001b[0;31mNameError\u001b[0m: name 'centroids' is not defined"
     ]
    }
   ],
   "source": [
    "def create_clusters(centroid,X):\n",
    "    # Assign the samples to the closest centroids to create clusters\n",
    "    clusters = [[] for _ in range(len(centroid))]\n",
    "    for idx, observation in enumerate(X):\n",
    "        centroid_idx = near_centroid(observation, centroid)\n",
    "        clusters[centroid_idx].append(idx)\n",
    "    return clusters\n",
    "#p=create_clusters(centroids,Xtr)"
   ]
  },
  {
   "cell_type": "code",
   "execution_count": 8,
   "metadata": {},
   "outputs": [],
   "source": [
    "def _get_centroids(clusters,Xtr):\n",
    "    \n",
    "    centroids = np.zeros((len(p), Xtr.shape[1]))\n",
    "    for idx, cluster in enumerate(clusters):\n",
    "        cluster_mean = np.mean(Xtr[cluster], axis=0)\n",
    "        centroids[cluster_idx] = cluster_mean\n",
    "    return centroids   \n",
    "\n",
    "def new_centroids(clusters,X):\n",
    "    centroids = np.zeros((len(clusters),X.shape[1]))\n",
    "    for idx, i in enumerate(clusters):\n",
    "        mean_cluster = np.mean(X[i],axis=0)\n",
    "        centroids[idx] = mean_cluster\n",
    "    return centroids    "
   ]
  },
  {
   "cell_type": "code",
   "execution_count": 61,
   "metadata": {},
   "outputs": [
    {
     "data": {
      "text/plain": [
       "(200, 2)"
      ]
     },
     "execution_count": 61,
     "metadata": {},
     "output_type": "execute_result"
    }
   ],
   "source": [
    "Xtr.shape"
   ]
  },
  {
   "cell_type": "code",
   "execution_count": 62,
   "metadata": {},
   "outputs": [
    {
     "data": {
      "text/plain": [
       "array([[ 1.48252008, -0.55411345],\n",
       "       [-0.88593052,  0.61501576],\n",
       "       [-0.02007926,  0.12837699],\n",
       "       [ 0.01381432,  1.28310242],\n",
       "       [ 0.5559516 , -0.43699648]])"
      ]
     },
     "execution_count": 62,
     "metadata": {},
     "output_type": "execute_result"
    }
   ],
   "source": [
    "#_get_centroids(p,Xtr)\n",
    "new_centroids(p,Xtr)"
   ]
  },
  {
   "cell_type": "code",
   "execution_count": null,
   "metadata": {},
   "outputs": [],
   "source": [
    "create_clusters(centroids, 4,observation,X)"
   ]
  },
  {
   "cell_type": "code",
   "execution_count": 27,
   "metadata": {},
   "outputs": [],
   "source": [
    "\n",
    "def Lloid(X, centers, maxiter):\n",
    "    \n",
    "    # random centers\n",
    "    n, dim = np.shape(X)\n",
    "    rand_center = np.random.choice(n,centers,replace=False) # Gets random numbers for indexes\n",
    "    centroids = [X[index] for index in rand_center] # Creates a list of initial index points from dataset \n",
    "    \n",
    "    idx_prev = np.zeros((len(centroids),dim)) # 1xn vector storing cluster assignments\n",
    "    \n",
    "    for i in np.arange(maxiter):\n",
    "        # Compute Squared Euclidean distance (i.e. the squared distance)\n",
    "        # between each cluster centre and each observation\n",
    "        # Assign data to clusters: for each point, find the minimum distance and the associated center\n",
    "        clusters = [[] for j in range(len(centroids))]\n",
    "        \n",
    "        cluster_obs= [[] for j in range (len(centroids))]\n",
    "        \n",
    "        for index, observation, in enumerate(X):\n",
    "            centroid_index = near_centroid(observation,centroids)\n",
    "            clusters[centroid_index].append(index)\n",
    "            cluster_obs[centroid_index].append(observation)\n",
    "            \n",
    "            ## Update cluster center\n",
    "            old_centroids = centroids\n",
    "            centroids= new_centroids(clusters,X)\n",
    "            \n",
    "            # Check if clusters have not changed\n",
    "            distances = [EuclidDistance(old_centroids[i],centroids[i]) for i in range(len(centroids))] \n",
    "            if sum (distances) == 0:\n",
    "                break            \n",
    "        \n",
    "        Iv = cluster_obs\n",
    "        \n",
    "    return centroids, Iv, clusters\n",
    "\n",
    "\n",
    "def near_centroid(observation, centroids):\n",
    "    distances = [EuclidDistance(observation,point) for point in centroids]\n",
    "    nearest_idx = np.argmin(distances)\n",
    "    return nearest_idx \n",
    "\n",
    "def new_centroids(clusters,X):\n",
    "    centroids = np.zeros((len(clusters),X.shape[1]))\n",
    "    for idx, i in enumerate(clusters):\n",
    "        mean_cluster = np.mean(X[i],axis=0)\n",
    "        centroids[idx] = mean_cluster\n",
    "    return centroids"
   ]
  },
  {
   "cell_type": "code",
   "execution_count": null,
   "metadata": {},
   "outputs": [],
   "source": []
  },
  {
   "cell_type": "code",
   "execution_count": 28,
   "metadata": {},
   "outputs": [
    {
     "data": {
      "text/plain": [
       "(array([[-0.3501909 ,  0.71781878],\n",
       "        [-0.47667227, -0.64846686],\n",
       "        [ 0.4993311 ,  1.55963009],\n",
       "        [ 0.79090538, -0.09433478]]),\n",
       " [[array([ 0.32654585, -0.10258987]),\n",
       "   array([0.25979097, 0.38352698]),\n",
       "   array([-0.36836994,  0.9124647 ]),\n",
       "   array([0.29471677, 0.43857216]),\n",
       "   array([0.31855027, 0.63177233]),\n",
       "   array([-0.77314735,  1.76507006]),\n",
       "   array([0.295182 , 0.6679024]),\n",
       "   array([-0.89868069,  1.52465507]),\n",
       "   array([0.47955177, 0.56044505]),\n",
       "   array([0.41203992, 0.59901855]),\n",
       "   array([-0.62237736,  0.51883227]),\n",
       "   array([-0.9851776,  0.4761463]),\n",
       "   array([-0.86723078,  0.96310512]),\n",
       "   array([-0.08703419,  0.291751  ]),\n",
       "   array([-0.06131221,  1.04530497]),\n",
       "   array([-0.78407814,  1.02246914]),\n",
       "   array([-0.76917413,  0.24395286]),\n",
       "   array([-0.94046637,  0.48895946]),\n",
       "   array([0.01768652, 0.0354347 ]),\n",
       "   array([-0.48059506,  0.47194471]),\n",
       "   array([0.3451997 , 0.66416224]),\n",
       "   array([-1.31001613,  0.53932625]),\n",
       "   array([-0.72544152,  1.71630875]),\n",
       "   array([-0.08405196, -0.03180337]),\n",
       "   array([-0.07952503,  0.74956905]),\n",
       "   array([-0.58006704,  0.12965069]),\n",
       "   array([0.03437921, 0.63227464]),\n",
       "   array([-0.70588167,  0.44337659]),\n",
       "   array([-1.57908699,  0.45257691]),\n",
       "   array([-0.18314201,  0.11833812]),\n",
       "   array([-0.85629771,  0.7536405 ]),\n",
       "   array([-0.79993915,  0.75436453]),\n",
       "   array([0.03045537, 0.44725181]),\n",
       "   array([0.21171505, 0.26438244]),\n",
       "   array([0.29979805, 0.63468893]),\n",
       "   array([-0.01707049,  0.51844122]),\n",
       "   array([-1.53034315,  0.90119364]),\n",
       "   array([-1.63167518,  0.74074639]),\n",
       "   array([0.01341583, 0.56475427]),\n",
       "   array([-0.61570565,  0.4829739 ]),\n",
       "   array([0.07096958, 0.89784592]),\n",
       "   array([0.22037852, 0.30066469]),\n",
       "   array([-0.3877816 ,  1.05366898]),\n",
       "   array([0.31593716, 0.62780521]),\n",
       "   array([0.02737385, 0.89578962]),\n",
       "   array([-0.27236118,  1.33076395]),\n",
       "   array([-0.3670436 ,  1.45485048]),\n",
       "   array([-0.1692831 ,  0.46935871]),\n",
       "   array([-1.11574205,  0.8911146 ]),\n",
       "   array([-0.39655556,  0.11213689]),\n",
       "   array([-0.79212008,  0.83968664]),\n",
       "   array([-0.04457964,  1.04253037]),\n",
       "   array([-0.53046468,  1.61354806]),\n",
       "   array([-0.49000055,  0.77133524]),\n",
       "   array([-0.21572893,  1.31642711]),\n",
       "   array([-0.88039018,  0.1160032 ]),\n",
       "   array([-0.53204925,  0.74601669]),\n",
       "   array([0.05277326, 0.89838841]),\n",
       "   array([-1.05142821,  1.28894935]),\n",
       "   array([-0.13523139,  0.83164763]),\n",
       "   array([-0.30469945,  0.37665995]),\n",
       "   array([-0.27255271,  0.27333289]),\n",
       "   array([-0.63119814,  0.80023153]),\n",
       "   array([-0.21350599,  0.02333145]),\n",
       "   array([-0.41660133,  1.44254971]),\n",
       "   array([0.25813268, 0.79371528]),\n",
       "   array([-0.31326675,  1.39278953]),\n",
       "   array([-0.35495126,  1.11480241]),\n",
       "   array([-0.22434163,  1.39859579])],\n",
       "  [array([-0.20807505, -0.02826195]),\n",
       "   array([-0.58571572, -0.78708804]),\n",
       "   array([ 0.06198587, -0.6758532 ]),\n",
       "   array([-0.11488397, -0.50647087]),\n",
       "   array([ 0.22629107, -1.68509166]),\n",
       "   array([-0.69276205, -0.61395184]),\n",
       "   array([ 0.24826698, -1.29437286]),\n",
       "   array([ 0.06873074, -1.3209878 ]),\n",
       "   array([-0.69062923, -1.19762031]),\n",
       "   array([-0.46147157, -0.08660678]),\n",
       "   array([-1.20978747, -0.28047645]),\n",
       "   array([-1.31713076,  0.02086723]),\n",
       "   array([-1.38109589, -0.45090253]),\n",
       "   array([-0.12234663, -1.13448799]),\n",
       "   array([-0.5734744 ,  0.06750895]),\n",
       "   array([-0.2707386 , -0.00723204]),\n",
       "   array([-0.16743875, -0.20438867]),\n",
       "   array([-0.0813918 , -0.06911334]),\n",
       "   array([ 0.19489601, -0.91278512]),\n",
       "   array([-1.028807  , -1.23346927]),\n",
       "   array([-0.7982525 , -0.30189265]),\n",
       "   array([-0.61315502, -1.61799504]),\n",
       "   array([-0.638745 , -0.5996568]),\n",
       "   array([-0.38035592, -1.34694252]),\n",
       "   array([-0.53156379, -0.0782351 ]),\n",
       "   array([-1.85155215, -1.26308161]),\n",
       "   array([-0.92942678, -0.50216579]),\n",
       "   array([ 0.03027619, -0.96033742]),\n",
       "   array([-0.31284697, -1.20687744]),\n",
       "   array([-0.07763347, -0.75315233]),\n",
       "   array([-1.06559563, -0.31396485]),\n",
       "   array([-0.78541999, -0.96327062]),\n",
       "   array([ 0.16385632, -0.56784449]),\n",
       "   array([-0.69942907, -0.04078638]),\n",
       "   array([-0.22452686, -0.31640314]),\n",
       "   array([-0.28997249, -1.11334515]),\n",
       "   array([ 0.00845577, -0.23773217]),\n",
       "   array([-1.0120807 , -0.05727268])],\n",
       "  [array([1.02011759, 1.01411801]),\n",
       "   array([1.00357778, 0.93233108]),\n",
       "   array([1.17234017, 2.20021948]),\n",
       "   array([0.7692097 , 1.41032762]),\n",
       "   array([0.52604873, 1.16170041]),\n",
       "   array([0.45666162, 0.77015123]),\n",
       "   array([0.94421676, 0.714476  ]),\n",
       "   array([-0.13987041,  1.84493394]),\n",
       "   array([0.03047691, 1.93872169]),\n",
       "   array([1.0226556 , 1.38027749]),\n",
       "   array([0.26178348, 1.32385029]),\n",
       "   array([0.38922132, 2.16976716]),\n",
       "   array([0.46782824, 1.75035965]),\n",
       "   array([0.71962103, 1.30765962]),\n",
       "   array([0.88944769, 0.70669277]),\n",
       "   array([-0.27249524,  2.17783626]),\n",
       "   array([0.15608164, 1.61557858]),\n",
       "   array([-0.18042755,  1.59779767]),\n",
       "   array([0.5028391 , 1.60725046]),\n",
       "   array([0.03272593, 1.56074927]),\n",
       "   array([0.19847532, 1.09330119]),\n",
       "   array([0.42924554, 1.09548919]),\n",
       "   array([2.14997091, 1.15524299]),\n",
       "   array([1.02264407, 1.14088701]),\n",
       "   array([0.14254562, 0.97233048]),\n",
       "   array([0.55698028, 1.13594156]),\n",
       "   array([0.81422556, 0.69225988]),\n",
       "   array([0.27285884, 1.98604231]),\n",
       "   array([1.34642793, 1.73017021]),\n",
       "   array([0.61914633, 1.66010436]),\n",
       "   array([0.24887265, 1.08251341]),\n",
       "   array([1.36384575, 2.18787562]),\n",
       "   array([1.10395342, 1.65265269]),\n",
       "   array([-0.58593351,  2.50478081]),\n",
       "   array([0.10026621, 2.19519333]),\n",
       "   array([0.63658784, 1.88010276]),\n",
       "   array([0.12736201, 1.50064635]),\n",
       "   array([1.68318587, 1.8738677 ]),\n",
       "   array([0.6305763 , 1.06247702]),\n",
       "   array([0.50231941, 1.65189183]),\n",
       "   array([-0.22755386,  1.96388976]),\n",
       "   array([0.56525201, 2.05066006]),\n",
       "   array([-0.54673017,  1.96903814]),\n",
       "   array([0.79350803, 1.40298491]),\n",
       "   array([1.28372541, 1.10171534]),\n",
       "   array([-0.09646554,  1.58750538]),\n",
       "   array([0.40799848, 1.13917556]),\n",
       "   array([-0.76277142,  2.73813505]),\n",
       "   array([1.64958164, 1.32516525]),\n",
       "   array([-0.54556464,  2.90331297]),\n",
       "   array([0.17213152, 1.97412181]),\n",
       "   array([0.74943901, 1.48334597]),\n",
       "   array([-0.25878846,  1.92712292]),\n",
       "   array([0.64450124, 1.21528222])],\n",
       "  [array([0.84849992, 0.1111369 ]),\n",
       "   array([ 0.58029986, -0.31631176]),\n",
       "   array([ 0.6701616 , -0.62427807]),\n",
       "   array([0.69550279, 0.16904539]),\n",
       "   array([ 0.73276555, -0.17088404]),\n",
       "   array([ 1.30233947, -0.06433718]),\n",
       "   array([ 0.21389167, -0.25813861]),\n",
       "   array([ 1.37941249, -0.35104023]),\n",
       "   array([ 0.32928676, -0.02777193]),\n",
       "   array([ 0.84540622, -0.4206896 ]),\n",
       "   array([ 0.4396991 , -0.16282651]),\n",
       "   array([ 0.66702553, -0.11087184]),\n",
       "   array([ 0.24842101, -0.60512017]),\n",
       "   array([1.22400617, 0.17504842]),\n",
       "   array([0.92761549, 0.09174931]),\n",
       "   array([1.83410316, 0.38718825]),\n",
       "   array([1.09317877, 0.01481294]),\n",
       "   array([ 0.10154833, -0.01960257]),\n",
       "   array([0.400139  , 0.42123557]),\n",
       "   array([ 1.49824676, -1.16831918]),\n",
       "   array([ 0.17592265, -0.23925476]),\n",
       "   array([1.26704891, 0.17638388]),\n",
       "   array([ 0.29609833, -0.05814749]),\n",
       "   array([ 1.09069976, -0.31007612]),\n",
       "   array([ 1.33119432, -0.36915444]),\n",
       "   array([ 0.77221146, -0.44326177]),\n",
       "   array([ 1.08586982, -1.2605687 ]),\n",
       "   array([ 0.56269678, -0.54264402]),\n",
       "   array([0.49558874, 0.17623378]),\n",
       "   array([ 0.14847683, -0.21853729]),\n",
       "   array([ 0.11428935, -0.23049076]),\n",
       "   array([0.6163713, 0.1998935]),\n",
       "   array([0.77816384, 0.10014276]),\n",
       "   array([1.19140947, 0.62968987]),\n",
       "   array([0.61160975, 0.42848156]),\n",
       "   array([2.198781  , 0.66230775]),\n",
       "   array([0.67779366, 0.12660522]),\n",
       "   array([0.62795249, 0.23382211]),\n",
       "   array([0.77158177, 0.18949342])]],\n",
       " [[1,\n",
       "   4,\n",
       "   7,\n",
       "   14,\n",
       "   17,\n",
       "   18,\n",
       "   23,\n",
       "   24,\n",
       "   26,\n",
       "   27,\n",
       "   28,\n",
       "   44,\n",
       "   47,\n",
       "   48,\n",
       "   54,\n",
       "   58,\n",
       "   59,\n",
       "   61,\n",
       "   68,\n",
       "   69,\n",
       "   74,\n",
       "   80,\n",
       "   82,\n",
       "   83,\n",
       "   88,\n",
       "   89,\n",
       "   91,\n",
       "   96,\n",
       "   97,\n",
       "   98,\n",
       "   105,\n",
       "   107,\n",
       "   110,\n",
       "   116,\n",
       "   117,\n",
       "   120,\n",
       "   127,\n",
       "   129,\n",
       "   138,\n",
       "   144,\n",
       "   146,\n",
       "   147,\n",
       "   148,\n",
       "   149,\n",
       "   150,\n",
       "   151,\n",
       "   152,\n",
       "   154,\n",
       "   155,\n",
       "   156,\n",
       "   158,\n",
       "   161,\n",
       "   162,\n",
       "   164,\n",
       "   166,\n",
       "   167,\n",
       "   169,\n",
       "   172,\n",
       "   174,\n",
       "   175,\n",
       "   176,\n",
       "   178,\n",
       "   182,\n",
       "   184,\n",
       "   185,\n",
       "   189,\n",
       "   192,\n",
       "   196,\n",
       "   199],\n",
       "  [0,\n",
       "   6,\n",
       "   9,\n",
       "   10,\n",
       "   15,\n",
       "   16,\n",
       "   21,\n",
       "   29,\n",
       "   31,\n",
       "   32,\n",
       "   33,\n",
       "   36,\n",
       "   37,\n",
       "   38,\n",
       "   39,\n",
       "   43,\n",
       "   46,\n",
       "   50,\n",
       "   55,\n",
       "   57,\n",
       "   63,\n",
       "   64,\n",
       "   65,\n",
       "   70,\n",
       "   71,\n",
       "   73,\n",
       "   77,\n",
       "   78,\n",
       "   86,\n",
       "   90,\n",
       "   92,\n",
       "   94,\n",
       "   119,\n",
       "   125,\n",
       "   132,\n",
       "   137,\n",
       "   179,\n",
       "   181],\n",
       "  [2,\n",
       "   8,\n",
       "   19,\n",
       "   25,\n",
       "   35,\n",
       "   66,\n",
       "   76,\n",
       "   93,\n",
       "   100,\n",
       "   101,\n",
       "   102,\n",
       "   103,\n",
       "   104,\n",
       "   106,\n",
       "   108,\n",
       "   109,\n",
       "   111,\n",
       "   113,\n",
       "   115,\n",
       "   121,\n",
       "   122,\n",
       "   123,\n",
       "   124,\n",
       "   126,\n",
       "   130,\n",
       "   135,\n",
       "   136,\n",
       "   139,\n",
       "   140,\n",
       "   141,\n",
       "   142,\n",
       "   143,\n",
       "   145,\n",
       "   153,\n",
       "   159,\n",
       "   160,\n",
       "   163,\n",
       "   165,\n",
       "   168,\n",
       "   170,\n",
       "   171,\n",
       "   173,\n",
       "   177,\n",
       "   180,\n",
       "   183,\n",
       "   186,\n",
       "   187,\n",
       "   188,\n",
       "   190,\n",
       "   191,\n",
       "   193,\n",
       "   194,\n",
       "   195,\n",
       "   198],\n",
       "  [3,\n",
       "   5,\n",
       "   11,\n",
       "   12,\n",
       "   13,\n",
       "   20,\n",
       "   22,\n",
       "   30,\n",
       "   34,\n",
       "   40,\n",
       "   41,\n",
       "   42,\n",
       "   45,\n",
       "   49,\n",
       "   51,\n",
       "   52,\n",
       "   53,\n",
       "   56,\n",
       "   60,\n",
       "   62,\n",
       "   67,\n",
       "   72,\n",
       "   75,\n",
       "   79,\n",
       "   81,\n",
       "   84,\n",
       "   85,\n",
       "   87,\n",
       "   95,\n",
       "   99,\n",
       "   112,\n",
       "   114,\n",
       "   118,\n",
       "   128,\n",
       "   131,\n",
       "   133,\n",
       "   134,\n",
       "   157,\n",
       "   197]])"
      ]
     },
     "execution_count": 28,
     "metadata": {},
     "output_type": "execute_result"
    }
   ],
   "source": [
    "Lloid(Xtr, 4, 8)"
   ]
  },
  {
   "cell_type": "code",
   "execution_count": null,
   "metadata": {},
   "outputs": [],
   "source": [
    "# Build a dataset with at least 4 classes and plot it\n",
    "X, Y = mixGauss( # ... fill here ...\n",
    "plt.scatter(X[:,0], X[:,1], s=70, c=Y, alpha=0.8)"
   ]
  },
  {
   "cell_type": "code",
   "execution_count": null,
   "metadata": {
    "scrolled": true
   },
   "outputs": [],
   "source": [
    "# Try with a random initialization of the centers.\n",
    "# NOTE: TRY MULTIPLE TIMES!\n",
    "\n",
    "k = # ... fill here ...\n",
    "dim = np.shape(X)[1]\n",
    "centers0 = # ... fill here ...\n",
    "\n",
    "# Call the Lloid function\n",
    "Iv, centers = # ... fill here ...\n",
    "\n",
    "# Visualize the final clusters and their centroids\n",
    "plt.scatter(X[:,0], X[:,1], s=70, c=Iv, alpha=0.8)\n",
    "plt.scatter(centers[:,0], centers[:,1], s=70, c='k', alpha=0.8)\n"
   ]
  },
  {
   "cell_type": "markdown",
   "metadata": {},
   "source": [
    "##### K-Means++\n",
    "\n",
    "We now consider a better strategy to initialize the centers of the clusters, i.e. selecting points with maximum distance among them. Have a look to the following function."
   ]
  },
  {
   "cell_type": "code",
   "execution_count": null,
   "metadata": {},
   "outputs": [],
   "source": [
    "def kMeanspp(X,k):\n",
    "\n",
    "    n, d = np.shape(X)\n",
    "\n",
    "    IdxC = np.random.permutation(np.shape(X)[0])\n",
    "    \n",
    "    centers = np.zeros((k,d))\n",
    "\n",
    "    centers[0,:] = X[IdxC[0],:]\n",
    "\n",
    "    for i in np.arange(1,k):\n",
    "        \n",
    "        D = allSEDistances(centers[:i,:], X)\n",
    "        idx = np.argmin(D,axis=0)\n",
    "        Ds = np.min(D,axis=0)\n",
    "\n",
    "        D2 = Ds**2\n",
    "        P = np.divide(D2, np.sum(D2))\n",
    "        \n",
    "        newcpos = np.argmax(P)\n",
    "        centers[i,:] = X[newcpos,:]\n",
    "        \n",
    "    return centers"
   ]
  },
  {
   "cell_type": "code",
   "execution_count": null,
   "metadata": {},
   "outputs": [],
   "source": [
    "# Try and use K-Means++ for initialization\n",
    "k = 4\n",
    "centers0 = # ... fill here ...\n",
    "\n",
    "# Call the Lloid function\n",
    "Iv, centers = # ... fill here ...\n",
    "\n",
    "# Visualize the final clusters and their centroids\n",
    "plt.scatter(X[:,0], X[:,1], s=70, c=Iv, alpha=0.8)\n",
    "plt.scatter(centers[:,0], centers[:,1], s=70, c='k', alpha=0.8)"
   ]
  }
 ],
 "metadata": {
  "kernelspec": {
   "display_name": "Python 3",
   "language": "python",
   "name": "python3"
  },
  "language_info": {
   "codemirror_mode": {
    "name": "ipython",
    "version": 3
   },
   "file_extension": ".py",
   "mimetype": "text/x-python",
   "name": "python",
   "nbconvert_exporter": "python",
   "pygments_lexer": "ipython3",
   "version": "3.6.9"
  }
 },
 "nbformat": 4,
 "nbformat_minor": 2
}
