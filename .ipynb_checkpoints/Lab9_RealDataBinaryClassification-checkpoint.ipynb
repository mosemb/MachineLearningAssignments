{
 "cells": [
  {
   "cell_type": "markdown",
   "metadata": {},
   "source": [
    "# Lab. 9 - An example of binary classification on real data"
   ]
  },
  {
   "cell_type": "code",
   "execution_count": null,
   "metadata": {},
   "outputs": [],
   "source": [
    "# import libraries\n",
    "%matplotlib inline\n",
    "import numpy as np\n",
    "import matplotlib as cm\n",
    "import matplotlib.pyplot as plt\n",
    "import os\n",
    "import pandas"
   ]
  },
  {
   "cell_type": "code",
   "execution_count": null,
   "metadata": {},
   "outputs": [],
   "source": [
    "df = pandas.read_csv('MNIST-X.csv',header=None)\n",
    "X = np.array(df.values)\n",
    "df = pandas.read_csv('MNIST-Y.csv',header=None)\n",
    "Y = np.array(df.values)\n",
    "print(np.shape(X))\n",
    "print(np.shape(Y))"
   ]
  },
  {
   "cell_type": "code",
   "execution_count": null,
   "metadata": {},
   "outputs": [],
   "source": [
    "def splitData(X, Y, P):\n",
    "    \n",
    "    labels = np.unique(Y).astype(int)\n",
    "    \n",
    "    first = 1\n",
    "    \n",
    "    for L in labels:\n",
    "        \n",
    "        ntr = int(np.ceil(len(Y[Y==L])*P))\n",
    "        nte = len(Y[Y==L])-ntr\n",
    "        \n",
    "        idx = np.random.permutation(len(Y[Y==L]))\n",
    "        \n",
    "        print(np.shape(Y==L))\n",
    "        print(np.shape(L))\n",
    "        print(np.shape(X))\n",
    "        \n",
    "        Lidx = np.where(Y==L)[0]\n",
    "        \n",
    "        XL = X[Lidx,:]\n",
    "        YL = Y[Y==L]\n",
    "    \n",
    "        X1 = XL[idx[:ntr],:]\n",
    "        Y1 = YL[idx[:ntr]]\n",
    "    \n",
    "        X2 = XL[idx[ntr:],:]\n",
    "        Y2 = YL[idx[ntr:]]\n",
    "        \n",
    "        if(first==1):\n",
    "            Xtr = X1\n",
    "            Ytr = Y1\n",
    "            Xte = X2\n",
    "            Yte = Y2\n",
    "            first = 0\n",
    "        else:\n",
    "            Xtr = np.append(Xtr, X1, axis=0)\n",
    "            Ytr = np.append(Ytr, Y1, axis=0)\n",
    "            Xte = np.append(Xte, X2, axis=0)\n",
    "            Yte = np.append(Yte, Y2, axis=0)\n",
    "            \n",
    "    \n",
    "    return Xtr, Ytr, Xte, Yte"
   ]
  },
  {
   "cell_type": "code",
   "execution_count": null,
   "metadata": {},
   "outputs": [],
   "source": [
    "Xtr, Ytr, Xte, Yte = splitData(X, Y, 0.3)\n",
    "\n",
    "print(np.shape(Xtr))\n",
    "print(np.shape(Ytr))\n",
    "print(np.shape(Xte))\n",
    "print(np.shape(Yte))"
   ]
  }
 ],
 "metadata": {
  "kernelspec": {
   "display_name": "Python 3",
   "language": "python",
   "name": "python3"
  },
  "language_info": {
   "codemirror_mode": {
    "name": "ipython",
    "version": 3
   },
   "file_extension": ".py",
   "mimetype": "text/x-python",
   "name": "python",
   "nbconvert_exporter": "python",
   "pygments_lexer": "ipython3",
   "version": "3.6.9"
  }
 },
 "nbformat": 4,
 "nbformat_minor": 2
}
