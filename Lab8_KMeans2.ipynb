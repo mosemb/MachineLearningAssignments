{
 "cells": [
  {
   "cell_type": "markdown",
   "metadata": {},
   "source": [
    "# Lab. 8 - K-Means and the LLoid algorithm\n",
    "\n",
    "In this lab we consider unsupervised settings, and more specifically the problem of data clustering using K-means.\n",
    "\n",
    "As usual, we start including libraries and utility functions."
   ]
  },
  {
   "cell_type": "code",
   "execution_count": null,
   "metadata": {},
   "outputs": [],
   "source": [
    "# import libraries\n",
    "%matplotlib inline\n",
    "import numpy as np\n",
    "import matplotlib.pyplot as plt\n",
    "import os\n",
    "import numpy.linalg as la"
   ]
  },
  {
   "cell_type": "code",
   "execution_count": null,
   "metadata": {},
   "outputs": [],
   "source": [
    "def mixGauss(means, sigmas, n):\n",
    "\n",
    "    means = np.array(means)\n",
    "    sigmas = np.array(sigmas)\n",
    "\n",
    "    d = means.shape[1]\n",
    "    num_classes = sigmas.size\n",
    "    data = np.full((n * num_classes, d), np.inf)\n",
    "    labels = np.zeros(n * num_classes)\n",
    "\n",
    "    for idx, sigma in enumerate(sigmas):\n",
    "        data[idx * n:(idx + 1) * n] = np.random.multivariate_normal(mean=means[idx], cov=np.eye(d) * sigmas[idx] ** 2,\n",
    "                                                                    size=n)\n",
    "        labels[idx * n:(idx + 1) * n] = idx \n",
    "        \n",
    "    if(num_classes == 2):\n",
    "        labels[labels==0] = -1\n",
    "\n",
    "    return data, labels"
   ]
  },
  {
   "cell_type": "code",
   "execution_count": null,
   "metadata": {},
   "outputs": [],
   "source": [
    "def EuclidDistance(P1,P2):\n",
    "    v = np.linalg.norm(P1-P2,2)\n",
    "    return v**2"
   ]
  },
  {
   "cell_type": "code",
   "execution_count": null,
   "metadata": {},
   "outputs": [],
   "source": [
    "def allDistances(X1, X2):\n",
    "    D = np.zeros((X1.shape[0], X2.shape[0]))\n",
    "    for idx1 in range(np.shape(X1)[0]):\n",
    "        for idx2 in range(np.shape(X2)[0]):\n",
    "            D[idx1,idx2] = EuclidDistance(X1[idx1,:],X2[idx2,:])\n",
    "    return D"
   ]
  },
  {
   "cell_type": "markdown",
   "metadata": {},
   "source": [
    "##### The Lloid algorithm\n",
    "\n",
    "We now focus on the implementation of the LLoid algorithm. The arguments of the function are:\n",
    "- X: the data matrix\n",
    "- centers0: the initialization of the cluster centers\n",
    "- maxiter: the maximum number of iterations\n",
    "The function returns the final clusters centers and the labels associated with each point.\n"
   ]
  },
  {
   "cell_type": "code",
   "execution_count": null,
   "metadata": {},
   "outputs": [],
   "source": [
    "def Lloid(X, centers, maxiter):\n",
    "    \n",
    "    # random centers\n",
    "    n, dim = np.shape(X)\n",
    "    \n",
    "    k = np.shape(centers)[0]\n",
    "    \n",
    "    idx_prev = np.zeros((1,n)) # 1xn vector storing cluster assignments\n",
    "    \n",
    "    for i in np.arange(maxiter):\n",
    "        \n",
    "        # Compute Squared Euclidean distance (i.e. the squared distance)\n",
    "        # between each cluster centre and each observation\n",
    "        \n",
    "        # ... fill here ...\n",
    "        \n",
    "        # Assign data to clusters: for each point, find the minimum distance and the associated center\n",
    "   \n",
    "        # ... fill here ...\n",
    "\n",
    "        # Update cluster center\n",
    "        for c in np.arange(k):\n",
    "            centers[c,0] = # ... fill here ...\n",
    "            centers[c,1] = # ... fill here ...\n",
    "        \n",
    "        idx_prev = Iv\n",
    "        \n",
    "        \n",
    "        \n",
    "    return Iv, centers\n"
   ]
  },
  {
   "cell_type": "code",
   "execution_count": null,
   "metadata": {},
   "outputs": [],
   "source": [
    "# Build a dataset with at least 4 classes and plot it\n",
    "X, Y = mixGauss( # ... fill here ...\n",
    "plt.scatter(X[:,0], X[:,1], s=70, c=Y, alpha=0.8)"
   ]
  },
  {
   "cell_type": "code",
   "execution_count": null,
   "metadata": {
    "scrolled": true
   },
   "outputs": [],
   "source": [
    "# Try with a random initialization of the centers.\n",
    "# NOTE: TRY MULTIPLE TIMES!\n",
    "\n",
    "k = # ... fill here ...\n",
    "dim = np.shape(X)[1]\n",
    "centers0 = # ... fill here ...\n",
    "\n",
    "# Call the Lloid function\n",
    "Iv, centers = # ... fill here ...\n",
    "\n",
    "# Visualize the final clusters and their centroids\n",
    "plt.scatter(X[:,0], X[:,1], s=70, c=Iv, alpha=0.8)\n",
    "plt.scatter(centers[:,0], centers[:,1], s=70, c='k', alpha=0.8)\n"
   ]
  },
  {
   "cell_type": "markdown",
   "metadata": {},
   "source": [
    "##### K-Means++\n",
    "\n",
    "We now consider a better strategy to initialize the centers of the clusters, i.e. selecting points with maximum distance among them. Have a look to the following function."
   ]
  },
  {
   "cell_type": "code",
   "execution_count": null,
   "metadata": {},
   "outputs": [],
   "source": [
    "def kMeanspp(X,k):\n",
    "\n",
    "    n, d = np.shape(X)\n",
    "\n",
    "    IdxC = np.random.permutation(np.shape(X)[0])\n",
    "    \n",
    "    centers = np.zeros((k,d))\n",
    "\n",
    "    centers[0,:] = X[IdxC[0],:]\n",
    "\n",
    "    for i in np.arange(1,k):\n",
    "        \n",
    "        D = allSEDistances(centers[:i,:], X)\n",
    "        idx = np.argmin(D,axis=0)\n",
    "        Ds = np.min(D,axis=0)\n",
    "\n",
    "        D2 = Ds**2\n",
    "        P = np.divide(D2, np.sum(D2))\n",
    "        \n",
    "        newcpos = np.argmax(P)\n",
    "        centers[i,:] = X[newcpos,:]\n",
    "        \n",
    "    return centers"
   ]
  },
  {
   "cell_type": "code",
   "execution_count": null,
   "metadata": {},
   "outputs": [],
   "source": [
    "# Try and use K-Means++ for initialization\n",
    "k = 4\n",
    "centers0 = # ... fill here ...\n",
    "\n",
    "# Call the Lloid function\n",
    "Iv, centers = # ... fill here ...\n",
    "\n",
    "# Visualize the final clusters and their centroids\n",
    "plt.scatter(X[:,0], X[:,1], s=70, c=Iv, alpha=0.8)\n",
    "plt.scatter(centers[:,0], centers[:,1], s=70, c='k', alpha=0.8)"
   ]
  }
 ],
 "metadata": {
  "kernelspec": {
   "display_name": "Python 3",
   "language": "python",
   "name": "python3"
  },
  "language_info": {
   "codemirror_mode": {
    "name": "ipython",
    "version": 3
   },
   "file_extension": ".py",
   "mimetype": "text/x-python",
   "name": "python",
   "nbconvert_exporter": "python",
   "pygments_lexer": "ipython3",
   "version": "3.6.9"
  }
 },
 "nbformat": 4,
 "nbformat_minor": 2
}
