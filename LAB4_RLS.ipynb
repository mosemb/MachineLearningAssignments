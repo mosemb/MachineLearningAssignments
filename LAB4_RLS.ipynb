{
 "cells": [
  {
   "cell_type": "markdown",
   "metadata": {},
   "source": [
    "# Lab 4 - Regularized Least Squares ( Moses Mbabaali 4846019)\n",
    "\n",
    "This lab is about employing Regularized Least Squares (RLS) to address regression problems."
   ]
  },
  {
   "cell_type": "code",
   "execution_count": 327,
   "metadata": {},
   "outputs": [],
   "source": [
    "# import libraries\n",
    "%matplotlib inline\n",
    "import numpy as np\n",
    "import matplotlib as cm\n",
    "import matplotlib.pyplot as plt\n",
    "import scipy.linalg\n",
    "import os"
   ]
  },
  {
   "cell_type": "markdown",
   "metadata": {},
   "source": [
    "##### Copy here below the code of the function to generate synthetic datasets for linear regression problems"
   ]
  },
  {
   "cell_type": "code",
   "execution_count": 328,
   "metadata": {},
   "outputs": [],
   "source": [
    "def linearRegrFunction(n, D, low_D, high_D, W, sigma_noise):\n",
    "   \n",
    "    X = np.zeros((n,D))\n",
    "    for i in range(0, D):\n",
    "        X[:,i] = np.random.uniform(low_D[i], high_D[i], size=n)\n",
    "    \n",
    "    gauss_noise = np.random.normal(0, sigma_noise, size=(n,1))\n",
    "\n",
    "    Y = np.dot(X, W) + gauss_noise\n",
    "    \n",
    "    return X, Y"
   ]
  },
  {
   "cell_type": "code",
   "execution_count": 329,
   "metadata": {},
   "outputs": [],
   "source": [
    "def regularizedLSTrain(Xtr, Ytr, reg_par):\n",
    "    Xtr = np.hstack((np.ones((Xtr.shape[0], 1)), Xtr))\n",
    "    Z = reg_par * np.eye(Xtr.shape[1])\n",
    "    Z[0, 0] = 0 \n",
    "    w = np.dot(np.linalg.inv(np.dot(Xtr.T, Xtr) + np.dot(Z.T, Z)),\n",
    "                             np.dot(Xtr.T, Ytr))\n",
    "    return w "
   ]
  },
  {
   "cell_type": "markdown",
   "metadata": {},
   "source": [
    "##### Given two vectors — Ytrue (real outputs) and Ypred (predicted outputs) — you need a function to estimate the error when predicting Yp instead of Y. To this purpose you can use the MSE (Mean Square Error): "
   ]
  },
  {
   "cell_type": "code",
   "execution_count": 330,
   "metadata": {},
   "outputs": [],
   "source": [
    "def calcError(Ypred, Ytrue):\n",
    "    return np.mean((Ypred-Ytrue)**2)"
   ]
  },
  {
   "cell_type": "markdown",
   "metadata": {},
   "source": [
    "##### Write a function to evaluate a function estimated with RLS"
   ]
  },
  {
   "cell_type": "code",
   "execution_count": 331,
   "metadata": {},
   "outputs": [],
   "source": [
    "def regularizedLSTest(w, Xtest):\n",
    "    Xtest = np.hstack((np.ones((Xtest.shape[0], 1)), Xtest))\n",
    "    Ypred = np.dot(Xtest,w)\n",
    "    return Ypred"
   ]
  },
  {
   "cell_type": "markdown",
   "metadata": {},
   "source": [
    "##### Generate a training set of n D-dimensional points "
   ]
  },
  {
   "cell_type": "code",
   "execution_count": 332,
   "metadata": {},
   "outputs": [],
   "source": [
    "n = 200\n",
    "D = 1\n",
    "w = np.array([1]).transpose()\n",
    "w.shape = (D,1)\n",
    "sigma_noise = 30\n",
    "low_D = np.array([-100, -100])\n",
    "high_D = np.array([100, 100])\n",
    "\n",
    "\n",
    "Xtr, Ytr = linearRegrFunction(n, D, low_D, high_D, w, sigma_noise)"
   ]
  },
  {
   "cell_type": "markdown",
   "metadata": {},
   "source": [
    "##### Pick a reasonable value for the regularization parameter and train the RLS on the training set\n",
    "##### HINT: have a look at the computed matrix, to verify that IT IS symmetric and IF it is invertible (recalling that it is invertible when it has full rank...)"
   ]
  },
  {
   "cell_type": "code",
   "execution_count": 333,
   "metadata": {},
   "outputs": [],
   "source": [
    "reg_par = 400\n",
    "estw = regularizedLSTrain(Xtr, Ytr,reg_par )"
   ]
  },
  {
   "cell_type": "markdown",
   "metadata": {},
   "source": [
    "##### Build a test set, with similar properties to the training set, and evaluate on it the trained model. Also, evaluate the error on the training set, then print both to have a look at their values"
   ]
  },
  {
   "cell_type": "code",
   "execution_count": 334,
   "metadata": {},
   "outputs": [
    {
     "name": "stdout",
     "output_type": "stream",
     "text": [
      "MSE on the test set 1113.5362389412167\n",
      "MSE on the training set 1057.6872202113261\n"
     ]
    }
   ],
   "source": [
    "Xte, Yte = linearRegrFunction(n, D, low_D, high_D, w, sigma_noise)\n",
    "\n",
    "\n",
    "test_err = calcError(regularizedLSTest(estw, Xte), Yte)\n",
    "train_err = calcError(regularizedLSTest(estw, Xtr), Ytr) #regularizedLSTest(estw,Xtr)\n",
    "                              \n",
    "print(\"MSE on the test set \"+str(test_err)) \n",
    "print(\"MSE on the training set \"+str(train_err))"
   ]
  },
  {
   "cell_type": "markdown",
   "metadata": {},
   "source": [
    "##### Build and plot the training and test error curves by repeiting the procedure above on different values of the regularization parameter"
   ]
  },
  {
   "cell_type": "code",
   "execution_count": 359,
   "metadata": {
    "scrolled": false
   },
   "outputs": [
    {
     "data": {
      "image/png": "[encoded data removed]",
      "text/plain": [
       "<Figure size 432x288 with 1 Axes>"
      ]
     },
     "metadata": {
      "needs_background": "light"
     },
     "output_type": "display_data"
    }
   ],
   "source": [
    "\n",
    "errstr = []\n",
    "errste = []\n",
    "\n",
    "for i in range(10,400,10):\n",
    "\n",
    "    w = regularizedLSTrain(Xtr, Ytr,i )\n",
    "    \n",
    "    Ypred_tr = regularizedLSTest(w, Xtr)\n",
    "    Ypred_te = regularizedLSTest(w, Xte)\n",
    "    \n",
    "    errs_tr= calcError(Ypred_tr, Ytr)\n",
    "    errstr.append(errs_tr)\n",
    "    \n",
    "    errs_te= calcError(Ypred_te, Yte)\n",
    "    errste.append(errs_te)\n",
    "    \n",
    "xi = [i for i in range(10,400,10)]\n",
    "\n",
    "plt.plot(xi, errste,  '-o', label = 'Test')\n",
    "plt.plot(xi, errstr, '-o', label = 'Train')\n",
    "plt.legend()\n",
    "plt.xlabel(\"Regularization parameter\")\n",
    "plt.ylabel(\"MSE\")\n",
    "plt.show()"
   ]
  },
  {
   "cell_type": "markdown",
   "metadata": {},
   "source": [
    "##### Have a look at the following function, to perform K-Fold Cross Validation when training a RLS "
   ]
  },
  {
   "cell_type": "code",
   "execution_count": 336,
   "metadata": {},
   "outputs": [],
   "source": [
    "def KFoldCVRLS(Xtr, Ytr, KF, regpar_list):\n",
    "\n",
    "    if KF <= 0:\n",
    "        print(\"Please supply a positive number of repetitions\")\n",
    "        return -1\n",
    "\n",
    "    # Ensures that k_list is a numpy array\n",
    "    regpar_list = np.array(regpar_list)\n",
    "    num_regpar = regpar_list.size\n",
    "\n",
    "    n_tot = Xtr.shape[0]\n",
    "    n_val = int(np.ceil(n_tot/KF))\n",
    "\n",
    "    Tm = np.zeros(num_regpar)\n",
    "    Ts = np.zeros(num_regpar)\n",
    "    Vm = np.zeros(num_regpar)\n",
    "    Vs = np.zeros(num_regpar)\n",
    "\n",
    "    # Random permutation of training data\n",
    "    rand_idx = np.random.choice(n_tot, size=n_tot, replace=False)\n",
    "    \n",
    "    \n",
    "    for kdx, regpar in enumerate(regpar_list):\n",
    "        first = 0\n",
    "        for fold in range(KF):\n",
    "           \n",
    "            flags = np.zeros(Xtr.shape[0])\n",
    "            flags[first:first+n_val]=1;\n",
    "            \n",
    "            X = Xtr[rand_idx[flags==0]]\n",
    "            Y = Ytr[rand_idx[flags==0]]\n",
    "            X_val = Xtr[rand_idx[flags==1]]\n",
    "            Y_val = Ytr[rand_idx[flags==1]]\n",
    "\n",
    "            # Compute the training error of the RLS regression for the given value of regpar\n",
    "            currW = regularizedLSTrain(X, Y, regpar)\n",
    "            YpredTR = regularizedLSTest(currW, X)\n",
    "            trError = calcError(YpredTR, Y)\n",
    "            Tm[kdx] = Tm[kdx] + trError\n",
    "            Ts[kdx] = Ts[kdx] + trError ** 2\n",
    "\n",
    "            # Compute the validation error of the RLS regression for the given value of regpar\n",
    "            YpredVAL = regularizedLSTest(currW, X_val)\n",
    "            valError = calcError(YpredVAL, Y_val)\n",
    "            Vm[kdx] = Vm[kdx] + valError\n",
    "            Vs[kdx] = Vs[kdx] + valError ** 2\n",
    "            \n",
    "            first = first+n_val                \n",
    "\n",
    "    Tm = Tm / KF\n",
    "    Ts = Ts / KF - Tm ** 2\n",
    "\n",
    "    Vm = Vm / KF\n",
    "    Vs = Vs / KF - Vm ** 2\n",
    "\n",
    "    best_regpar_idx = np.argmin(Vm)\n",
    "    bestregpar = regpar_list[best_regpar_idx]\n",
    "\n",
    "    return bestregpar, Vm, Vs, Tm, Ts"
   ]
  },
  {
   "cell_type": "markdown",
   "metadata": {},
   "source": [
    "##### Given the same array of possible values for the regularization parameter, select the best value with K-Fold Cross Validation, then train the model with the selected value and have a look to the test error"
   ]
  },
  {
   "cell_type": "code",
   "execution_count": 355,
   "metadata": {},
   "outputs": [
    {
     "data": {
      "image/png": "[encoded data removed]",
      "text/plain": [
       "<Figure size 432x288 with 1 Axes>"
      ]
     },
     "metadata": {
      "needs_background": "light"
     },
     "output_type": "display_data"
    }
   ],
   "source": [
    "#KFoldCVRLS(Xtr, Ytr, KF, regpar_list)\n",
    "\n",
    "reg_pars = [i for i in range(5,500,5)]\n",
    "KF = 5\n",
    "bestregpar, Vm, Vs, Tm, Ts = KFoldCVRLS(Xtr, Ytr, 5, reg_pars)\n",
    "\n",
    "plt.plot(reg_pars, Vm, '-o',label = 'Vm')\n",
    "plt.plot(reg_pars, Tm,'-o',label = 'Tm')\n",
    "plt.xlabel(\"Regularization parameter\")\n",
    "plt.ylabel(\"MSE\")\n",
    "plt.legend()\n",
    "plt.show()"
   ]
  },
  {
   "cell_type": "markdown",
   "metadata": {},
   "source": [
    "##### Repeat the procedure above on a different dataset, sampled in a range non symmetric wrt the original, e.g. [2 5]\n",
    "##### What changes? Reason on the further steps that you need to "
   ]
  },
  {
   "cell_type": "code",
   "execution_count": 358,
   "metadata": {},
   "outputs": [
    {
     "data": {
      "image/png": "[encoded data removed]",
      "text/plain": [
       "<Figure size 432x288 with 1 Axes>"
      ]
     },
     "metadata": {
      "needs_background": "light"
     },
     "output_type": "display_data"
    }
   ],
   "source": [
    "n = 300\n",
    "D = 1\n",
    "w = np.array([1]).transpose()\n",
    "w.shape = (D,1)\n",
    "sigma_noise = 28\n",
    "low_D = np.array([-100, -100])\n",
    "high_D = np.array([100, 100])\n",
    "\n",
    "\n",
    "Xt, Yt = linearRegrFunction(n, D, low_D, high_D, w, sigma_noise)\n",
    "\n",
    "#KFoldCVRLS(Xtr, Ytr, KF, regpar_list)\n",
    "\n",
    "reg_pars = [i for i in range(5,400,5)]\n",
    "KF = 5\n",
    "bestregpar, Vm, Vs, Tm, Ts = KFoldCVRLS(Xt, Yt, 25, reg_pars)\n",
    "\n",
    "plt.plot(reg_pars, Vm, '-o',label = 'Vm')\n",
    "plt.plot(reg_pars, Tm,'-o',label = 'Tm')\n",
    "plt.xlabel(\"Regularization parameter\")\n",
    "plt.ylabel(\"MSE\")\n",
    "plt.legend()\n",
    "plt.show()"
   ]
  },
  {
   "cell_type": "markdown",
   "metadata": {},
   "source": [
    "### The more Kfolds i add the less the error. In terms of more steps to take i would need maybe to see the how noise levels affect the error. "
   ]
  },
  {
   "cell_type": "code",
   "execution_count": null,
   "metadata": {},
   "outputs": [],
   "source": []
  }
 ],
 "metadata": {
  "kernelspec": {
   "display_name": "Python 3",
   "language": "python",
   "name": "python3"
  },
  "language_info": {
   "codemirror_mode": {
    "name": "ipython",
    "version": 3
   },
   "file_extension": ".py",
   "mimetype": "text/x-python",
   "name": "python",
   "nbconvert_exporter": "python",
   "pygments_lexer": "ipython3",
   "version": "3.6.9"
  }
 },
 "nbformat": 4,
 "nbformat_minor": 2
}
