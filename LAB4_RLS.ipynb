{
 "cells": [
  {
   "cell_type": "markdown",
   "metadata": {},
   "source": [
    "# Lab 4 - Regularized Least Squares\n",
    "\n",
    "This lab is about employing Regularized Least Squares (RLS) to address regression problems."
   ]
  },
  {
   "cell_type": "code",
   "execution_count": 140,
   "metadata": {},
   "outputs": [],
   "source": [
    "# import libraries\n",
    "%matplotlib inline\n",
    "import numpy as np\n",
    "import matplotlib as cm\n",
    "import matplotlib.pyplot as plt\n",
    "import scipy.linalg\n",
    "import os"
   ]
  },
  {
   "cell_type": "markdown",
   "metadata": {},
   "source": [
    "##### Copy here below the code of the function to generate synthetic datasets for linear regression problems"
   ]
  },
  {
   "cell_type": "code",
   "execution_count": 1,
   "metadata": {},
   "outputs": [],
   "source": [
    "def linearRegrFunction(n, D, low_D, high_D, W, sigma_noise):\n",
    "   \n",
    "    X = np.zeros((n,D))\n",
    "    for i in range(0, D):\n",
    "        X[:,i] = np.random.uniform(low_D[i], high_D[i], size=n)\n",
    "    \n",
    "    gauss_noise = np.random.normal(0, sigma_noise, size=(n,1))\n",
    "\n",
    "    Y = np.dot(X, W) + gauss_noise\n",
    "    \n",
    "    return X, Y"
   ]
  },
  {
   "cell_type": "markdown",
   "metadata": {},
   "source": [
    "##### Write a function for training a RLS regression using the Cholesky decomposition"
   ]
  },
  {
   "cell_type": "code",
   "execution_count": 136,
   "metadata": {},
   "outputs": [],
   "source": [
    "def regularizedLSTrain(Xtr, Ytr, reg_par):\n",
    "    \n",
    "    ... fill here ..."
   ]
  },
  {
   "cell_type": "markdown",
   "metadata": {},
   "source": [
    "##### Given two vectors — Ytrue (real outputs) and Ypred (predicted outputs) — you need a function to estimate the error when predicting Yp instead of Y. To this purpose you can use the MSE (Mean Square Error): "
   ]
  },
  {
   "cell_type": "code",
   "execution_count": 97,
   "metadata": {},
   "outputs": [],
   "source": [
    "def calcError(Ypred, Ytrue):\n",
    "    return np.mean((Ypred-Ytrue)**2)"
   ]
  },
  {
   "cell_type": "markdown",
   "metadata": {},
   "source": [
    "##### Write a function to evaluate a function estimated with RLS"
   ]
  },
  {
   "cell_type": "code",
   "execution_count": 137,
   "metadata": {},
   "outputs": [],
   "source": [
    "def regularizedLSTest(w, Xtest):\n",
    "   \n",
    "    ... fill here ..."
   ]
  },
  {
   "cell_type": "markdown",
   "metadata": {},
   "source": [
    "##### Generate a training set of n D-dimensional points "
   ]
  },
  {
   "cell_type": "code",
   "execution_count": 141,
   "metadata": {},
   "outputs": [
    {
     "name": "stdout",
     "output_type": "stream",
     "text": [
      "(10000, 1000)\n",
      "(10000, 1)\n"
     ]
    }
   ],
   "source": [
    "n = ...\n",
    "D = ...\n",
    "sigma_noise = ...\n",
    "truew = ...\n",
    "\n",
    "low_D = ...\n",
    "high_D = ...\n",
    "\n",
    "Xtr, Ytr = ..."
   ]
  },
  {
   "cell_type": "markdown",
   "metadata": {},
   "source": [
    "##### Pick a reasonable value for the regularization parameter and train the RLS on the training set\n",
    "##### HINT: have a look at the computed matrix, to verify that IT IS symmetric and IF it is invertible (recalling that it is invertible when it has full rank...)"
   ]
  },
  {
   "cell_type": "code",
   "execution_count": 142,
   "metadata": {},
   "outputs": [],
   "source": [
    "reg_par = ...\n",
    "\n",
    "estw = regularizedLSTrain(... "
   ]
  },
  {
   "cell_type": "markdown",
   "metadata": {},
   "source": [
    "##### Build a test set, with similar properties to the training set, and evaluate on it the trained model. Also, evaluate the error on the training set, then print both to have a look at their values"
   ]
  },
  {
   "cell_type": "code",
   "execution_count": 144,
   "metadata": {},
   "outputs": [],
   "source": [
    "Xte, Yte = linearRegrFunction(...\n",
    "\n",
    "test_err = regularizedLSTest(...\n",
    "train_err = regularizedLSTest(...\n",
    "                              \n",
    "print(\"MSE on the test set \"+str(test_err)) \n",
    "print(\"MSE on the training set \"+str(train_err))"
   ]
  },
  {
   "cell_type": "markdown",
   "metadata": {},
   "source": [
    "##### Build and plot the training and test error curves by repeiting the procedure above on different values of the regularization parameter"
   ]
  },
  {
   "cell_type": "code",
   "execution_count": 138,
   "metadata": {
    "scrolled": false
   },
   "outputs": [],
   "source": [
    "reg_pars = ...\n",
    "errs_tr = np.zeros(np.shape(reg_pars))\n",
    "errs_te = np.zeros(np.shape(reg_pars))\n",
    "\n",
    "for i in range(len(reg_pars)):\n",
    "\n",
    "    w = regularizedLSTrain(...\n",
    "    \n",
    "    Ypred_tr = ...\n",
    "    Ypred_te = ...\n",
    "    \n",
    "    errs_tr[i] = calcError(Ypred_tr, Ytr)\n",
    "    errs_te[i] = calcError(Ypred_te, Yte)\n",
    "\n",
    "plt.plot(reg_pars, errs_te, '-o')\n",
    "plt.plot(reg_pars, errs_tr, '-o')\n",
    "plt.xlabel(\"Regularization parameter\")\n",
    "plt.ylabel(\"MSE\")"
   ]
  },
  {
   "cell_type": "markdown",
   "metadata": {},
   "source": [
    "##### Have a look at the following function, to perform K-Fold Cross Validation when training a RLS "
   ]
  },
  {
   "cell_type": "code",
   "execution_count": 111,
   "metadata": {},
   "outputs": [],
   "source": [
    "def KFoldCVRLS(Xtr, Ytr, KF, regpar_list):\n",
    "\n",
    "    if KF <= 0:\n",
    "        print(\"Please supply a positive number of repetitions\")\n",
    "        return -1\n",
    "\n",
    "    # Ensures that k_list is a numpy array\n",
    "    regpar_list = np.array(regpar_list)\n",
    "    num_regpar = regpar_list.size\n",
    "\n",
    "    n_tot = Xtr.shape[0]\n",
    "    n_val = int(np.ceil(n_tot/KF))\n",
    "\n",
    "    Tm = np.zeros(num_regpar)\n",
    "    Ts = np.zeros(num_regpar)\n",
    "    Vm = np.zeros(num_regpar)\n",
    "    Vs = np.zeros(num_regpar)\n",
    "\n",
    "    # Random permutation of training data\n",
    "    rand_idx = np.random.choice(n_tot, size=n_tot, replace=False)\n",
    "    \n",
    "    \n",
    "    for kdx, regpar in enumerate(regpar_list):\n",
    "        first = 0\n",
    "        for fold in range(KF):\n",
    "           \n",
    "            flags = np.zeros(Xtr.shape[0])\n",
    "            flags[first:first+n_val]=1;\n",
    "            \n",
    "            X = Xtr[rand_idx[flags==0]]\n",
    "            Y = Ytr[rand_idx[flags==0]]\n",
    "            X_val = Xtr[rand_idx[flags==1]]\n",
    "            Y_val = Ytr[rand_idx[flags==1]]\n",
    "\n",
    "            # Compute the training error of the RLS regression for the given value of regpar\n",
    "            currW = regularizedLSTrain(X, Y, regpar)\n",
    "            YpredTR = regularizedLSTest(currW, X)\n",
    "            trError = calcError(YpredTR, Y)\n",
    "            Tm[kdx] = Tm[kdx] + trError\n",
    "            Ts[kdx] = Ts[kdx] + trError ** 2\n",
    "\n",
    "            # Compute the validation error of the RLS regression for the given value of regpar\n",
    "            YpredVAL = regularizedLSTest(currW, X_val)\n",
    "            valError = calcError(YpredVAL, Y_val)\n",
    "            Vm[kdx] = Vm[kdx] + valError\n",
    "            Vs[kdx] = Vs[kdx] + valError ** 2\n",
    "            \n",
    "            first = first+n_val                \n",
    "\n",
    "    Tm = Tm / KF\n",
    "    Ts = Ts / KF - Tm ** 2\n",
    "\n",
    "    Vm = Vm / KF\n",
    "    Vs = Vs / KF - Vm ** 2\n",
    "\n",
    "    best_regpar_idx = np.argmin(Vm)\n",
    "    bestregpar = regpar_list[best_regpar_idx]\n",
    "\n",
    "    return bestregpar, Vm, Vs, Tm, Ts"
   ]
  },
  {
   "cell_type": "markdown",
   "metadata": {},
   "source": [
    "##### Given the same array of possible values for the regularization parameter, select the best value with K-Fold Cross Validation, then train the model with the selected value and have a look to the test error"
   ]
  },
  {
   "cell_type": "code",
   "execution_count": 112,
   "metadata": {},
   "outputs": [
    {
     "data": {
      "text/plain": [
       "[<matplotlib.lines.Line2D at 0xb24fa6fd0>]"
      ]
     },
     "execution_count": 112,
     "metadata": {},
     "output_type": "execute_result"
    },
    {
     "data": {
      "image/png": "[encoded data removed]",
      "text/plain": [
       "<Figure size 432x288 with 1 Axes>"
      ]
     },
     "metadata": {
      "needs_background": "light"
     },
     "output_type": "display_data"
    }
   ],
   "source": [
    "reg_pars = ...\n",
    "KF = ...\n",
    "bestregpar, Vm, Vs, Tm, Ts = KFoldCVRLS(Xtr, Ytr, 5, reg_pars)\n",
    "\n",
    "plt.plot(reg_pars, Vm, '-o')\n",
    "plt.plot(reg_pars, Tm, '-o')\n",
    "plt.xlabel(\"Regularization parameter\")\n",
    "plt.ylabel(\"MSE\")"
   ]
  },
  {
   "cell_type": "markdown",
   "metadata": {},
   "source": [
    "##### Repeat the procedure above on a different dataset, sampled in a range non symmetric wrt the original, e.g. [2 5]\n",
    "##### What changes? Reason on the further steps that you need to "
   ]
  }
 ],
 "metadata": {
  "kernelspec": {
   "display_name": "Python 3",
   "language": "python",
   "name": "python3"
  },
  "language_info": {
   "codemirror_mode": {
    "name": "ipython",
    "version": 3
   },
   "file_extension": ".py",
   "mimetype": "text/x-python",
   "name": "python",
   "nbconvert_exporter": "python",
   "pygments_lexer": "ipython3",
   "version": "3.6.9"
  }
 },
 "nbformat": 4,
 "nbformat_minor": 2
}
